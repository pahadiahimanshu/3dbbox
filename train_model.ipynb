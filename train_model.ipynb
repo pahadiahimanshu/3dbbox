{
 "cells": [
  {
   "cell_type": "markdown",
   "id": "91fab72f",
   "metadata": {},
   "source": [
    "# Libraries and classes"
   ]
  },
  {
   "cell_type": "code",
   "execution_count": 21,
   "id": "32e70e0a",
   "metadata": {},
   "outputs": [],
   "source": [
    "from torch_lib.Dataset import *\n",
    "from torch_lib.Model import Model, OrientationLoss"
   ]
  },
  {
   "cell_type": "code",
   "execution_count": 22,
   "id": "7f6ff650",
   "metadata": {},
   "outputs": [],
   "source": [
    "import os\n",
    "\n",
    "import torch\n",
    "import torch.nn as nn\n",
    "from torch.autograd import Variable\n",
    "from torchvision.models import vgg\n",
    "from torch.utils import data"
   ]
  },
  {
   "cell_type": "code",
   "execution_count": 23,
   "id": "ccf78ade",
   "metadata": {},
   "outputs": [],
   "source": [
    "epochs = 100\n",
    "batch_size = 8\n",
    "alpha = 0.6\n",
    "w = 0.4\n",
    "\n",
    "params = {\n",
    "    'batch_size':batch_size,\n",
    "    'shuffle':True,\n",
    "    'num_workers':6\n",
    "}\n"
   ]
  },
  {
   "cell_type": "code",
   "execution_count": 25,
   "id": "0bab11d0",
   "metadata": {},
   "outputs": [],
   "source": [
    "datasetpath = '/home/hpahadia_3/Documents/3ddeepbox/code/3D-BoundingBox/Kitti/training'\n",
    "\n",
    "model_path = os.path.abspath(os.getcwd()) + '/weights/'\n",
    "latest_model = None\n",
    "first_epoch = 0"
   ]
  },
  {
   "cell_type": "code",
   "execution_count": 26,
   "id": "e1607ec4",
   "metadata": {},
   "outputs": [],
   "source": [
    "# Intialize the KITTI Dataset\n",
    "dataset = Dataset(datasetpath)\n",
    "generator = data.DataLoader(dataset, **params)\n",
    "\n",
    "# Initialize model\n",
    "my_vgg = vgg.vgg19_bn(pretrained=True)\n",
    "model = Model(features=my_vgg.features).cuda()\n",
    "opt_SGD = torch.optim.SGD(model.parameters(), lr=0.0001, momentum=0.9)"
   ]
  },
  {
   "cell_type": "code",
   "execution_count": 27,
   "id": "f2cffd09",
   "metadata": {},
   "outputs": [],
   "source": [
    "# Loss functions for different branches\n",
    "conf_loss_func = nn.CrossEntropyLoss().cuda()\n",
    "dim_loss_func = nn.MSELoss().cuda()\n",
    "orient_loss_func = OrientationLoss"
   ]
  },
  {
   "cell_type": "code",
   "execution_count": 28,
   "id": "b408e9c5",
   "metadata": {},
   "outputs": [],
   "source": [
    "if not os.path.isdir(model_path):\n",
    "    os.mkdir(model_path)\n",
    "else:\n",
    "    try:\n",
    "        for a in sorted(os.listdir(model_path)):\n",
    "            if a.endswith('.pkl'):\n",
    "                all_models.append(a)\n",
    "        latest_model = all_models[-1]\n",
    "    except:\n",
    "        pass"
   ]
  },
  {
   "cell_type": "code",
   "execution_count": null,
   "id": "7a07ba63",
   "metadata": {},
   "outputs": [],
   "source": []
  },
  {
   "cell_type": "code",
   "execution_count": 29,
   "id": "0637095b",
   "metadata": {},
   "outputs": [],
   "source": [
    "if latest_model is not None:\n",
    "    checkpoint = torch.load(model_path + latest_model)\n",
    "    model.load_state_dict(checkpoint['model_state_dict'])\n",
    "    opt_SGD.load_state_dict(checkpoint['optimizer_state_dict'])\n",
    "    first_epoch = checkpoint['epoch']\n",
    "    loss = checkpoint['loss']"
   ]
  },
  {
   "cell_type": "code",
   "execution_count": 30,
   "id": "46e32185",
   "metadata": {},
   "outputs": [
    {
     "data": {
      "text/plain": [
       "tensor(-0.3875, device='cuda:0', grad_fn=<AddBackward0>)"
      ]
     },
     "execution_count": 30,
     "metadata": {},
     "output_type": "execute_result"
    }
   ],
   "source": [
    "loss"
   ]
  },
  {
   "cell_type": "code",
   "execution_count": 31,
   "id": "102d18df",
   "metadata": {},
   "outputs": [
    {
     "data": {
      "text/plain": [
       "(40570, 5071)"
      ]
     },
     "execution_count": 31,
     "metadata": {},
     "output_type": "execute_result"
    }
   ],
   "source": [
    "total_num_batches = int(len(dataset) / batch_size)\n",
    "len(dataset), total_num_batches"
   ]
  },
  {
   "cell_type": "markdown",
   "id": "187fc0b3",
   "metadata": {},
   "source": [
    "# Train the model"
   ]
  },
  {
   "cell_type": "code",
   "execution_count": 14,
   "id": "7957c8a0",
   "metadata": {},
   "outputs": [
    {
     "name": "stdout",
     "output_type": "stream",
     "text": [
      "--- epoch 21 | batch 0/5071 --- [loss: -0.39043617248535156]\n",
      "--- epoch 21 | batch 10/5071 --- [loss: -0.3675423562526703]\n",
      "--- epoch 21 | batch 20/5071 --- [loss: -0.3444667458534241]\n"
     ]
    },
    {
     "ename": "KeyboardInterrupt",
     "evalue": "",
     "output_type": "error",
     "traceback": [
      "\u001b[0;31m------------------------------------\u001b[0m",
      "\u001b[0;31mKeyboardInterrupt\u001b[0mTraceback (most recent call last)",
      "\u001b[0;32m<ipython-input-14-69b467ffc2f9>\u001b[0m in \u001b[0;36m<module>\u001b[0;34m\u001b[0m\n\u001b[1;32m     18\u001b[0m \u001b[0;34m\u001b[0m\u001b[0m\n\u001b[1;32m     19\u001b[0m         \u001b[0mloss_theta\u001b[0m \u001b[0;34m=\u001b[0m \u001b[0mconf_loss\u001b[0m \u001b[0;34m+\u001b[0m \u001b[0mw\u001b[0m \u001b[0;34m*\u001b[0m \u001b[0morient_loss\u001b[0m\u001b[0;34m\u001b[0m\u001b[0;34m\u001b[0m\u001b[0m\n\u001b[0;32m---> 20\u001b[0;31m         \u001b[0mloss\u001b[0m \u001b[0;34m=\u001b[0m \u001b[0malpha\u001b[0m \u001b[0;34m*\u001b[0m \u001b[0mdim_loss\u001b[0m \u001b[0;34m+\u001b[0m \u001b[0mloss_theta\u001b[0m\u001b[0;34m\u001b[0m\u001b[0;34m\u001b[0m\u001b[0m\n\u001b[0m\u001b[1;32m     21\u001b[0m \u001b[0;34m\u001b[0m\u001b[0m\n\u001b[1;32m     22\u001b[0m         \u001b[0mopt_SGD\u001b[0m\u001b[0;34m.\u001b[0m\u001b[0mzero_grad\u001b[0m\u001b[0;34m(\u001b[0m\u001b[0;34m)\u001b[0m\u001b[0;34m\u001b[0m\u001b[0;34m\u001b[0m\u001b[0m\n",
      "\u001b[0;31mKeyboardInterrupt\u001b[0m: "
     ]
    }
   ],
   "source": [
    "for epoch in range(first_epoch+1, epochs+1):\n",
    "    curr_batch = 0\n",
    "    passes = 0\n",
    "    for local_batch, local_labels in generator:\n",
    "\n",
    "        truth_orient = local_labels['Orientation'].float().cuda()\n",
    "        truth_conf = local_labels['Confidence'].long().cuda()\n",
    "        truth_dim = local_labels['Dimensions'].float().cuda()\n",
    "\n",
    "        local_batch=local_batch.float().cuda()\n",
    "        [orient, conf, dim] = model(local_batch)\n",
    "\n",
    "        orient_loss = orient_loss_func(orient, truth_orient, truth_conf)\n",
    "        dim_loss = dim_loss_func(dim, truth_dim)\n",
    "\n",
    "        truth_conf = torch.max(truth_conf, dim=1)[1]\n",
    "        conf_loss = conf_loss_func(conf, truth_conf)\n",
    "\n",
    "        loss_theta = conf_loss + w * orient_loss\n",
    "        loss = alpha * dim_loss + loss_theta\n",
    "\n",
    "        opt_SGD.zero_grad()\n",
    "        loss.backward()\n",
    "        opt_SGD.step()\n",
    "\n",
    "\n",
    "        if passes % 10 == 0:\n",
    "            print(\"--- epoch %s | batch %s/%s --- [loss: %s]\" %(epoch, curr_batch, total_num_batches, loss.item()))\n",
    "            passes = 0\n",
    "\n",
    "        passes += 1\n",
    "        curr_batch += 1\n",
    "\n",
    "    # save after every 10 epochs\n",
    "    if epoch % 10 == 0:\n",
    "        name = model_path + 'epoch_%s.pkl' % epoch\n",
    "        print(\"====================\")\n",
    "        print (\"Done with epoch %s!\" % epoch)\n",
    "        print (\"Saving weights as %s ...\" % name)\n",
    "        torch.save({\n",
    "                'epoch': epoch,\n",
    "                'model_state_dict': model.state_dict(),\n",
    "                'optimizer_state_dict': opt_SGD.state_dict(),\n",
    "                'loss': loss\n",
    "                }, name)\n",
    "        print(\"====================\")"
   ]
  },
  {
   "cell_type": "code",
   "execution_count": null,
   "id": "fc45c46b",
   "metadata": {},
   "outputs": [],
   "source": []
  }
 ],
 "metadata": {
  "kernelspec": {
   "display_name": "Python 3",
   "language": "python",
   "name": "python3"
  },
  "language_info": {
   "codemirror_mode": {
    "name": "ipython",
    "version": 3
   },
   "file_extension": ".py",
   "mimetype": "text/x-python",
   "name": "python",
   "nbconvert_exporter": "python",
   "pygments_lexer": "ipython3",
   "version": "3.6.9"
  }
 },
 "nbformat": 4,
 "nbformat_minor": 5
}
